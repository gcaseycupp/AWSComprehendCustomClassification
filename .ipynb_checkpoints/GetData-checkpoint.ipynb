{
 "cells": [
  {
   "cell_type": "code",
   "execution_count": 20,
   "metadata": {},
   "outputs": [],
   "source": [
    "import os\n",
    "import pandas as pd"
   ]
  },
  {
   "cell_type": "code",
   "execution_count": null,
   "metadata": {},
   "outputs": [],
   "source": []
  },
  {
   "cell_type": "code",
   "execution_count": 21,
   "metadata": {},
   "outputs": [],
   "source": [
    "# setup\n",
    "\n",
    "mapping = {}\n",
    "source_path = \"data/bbc/\""
   ]
  },
  {
   "cell_type": "code",
   "execution_count": 31,
   "metadata": {},
   "outputs": [],
   "source": [
    "# loop through the top level, for each folder/directory, create an entry in mapping \n",
    "# for each file add it as an array to the appropriate map\n",
    "for i in sorted(os.listdir(source_path)):\n",
    "    if os.path.isdir(source_path + i):\n",
    "        # get first 100 for each row\n",
    "        #mapping[i] = sorted(os.listdir(source_path+i))[:100]\n",
    "        # second time through for test, switch above line to below line\n",
    "        mapping[i] = sorted(os.listdir(source_path+i))[200:210]"
   ]
  },
  {
   "cell_type": "code",
   "execution_count": 23,
   "metadata": {},
   "outputs": [
    {
     "data": {
      "text/plain": [
       "dict_keys(['business', 'entertainment', 'politics', 'sport', 'tech'])"
      ]
     },
     "execution_count": 23,
     "metadata": {},
     "output_type": "execute_result"
    }
   ],
   "source": [
    "mapping.keys()"
   ]
  },
  {
   "cell_type": "code",
   "execution_count": 24,
   "metadata": {},
   "outputs": [
    {
     "data": {
      "text/plain": [
       "['201.txt', '202.txt', '203.txt', '204.txt', '205.txt']"
      ]
     },
     "execution_count": 24,
     "metadata": {},
     "output_type": "execute_result"
    }
   ],
   "source": [
    "mapping[\"business\"][:5]"
   ]
  },
  {
   "cell_type": "code",
   "execution_count": 35,
   "metadata": {},
   "outputs": [],
   "source": [
    "#loop through data read each director/file and clean up line breaks into spaces.\n",
    "label = []\n",
    "data = []\n",
    "for i, j in mapping.items():\n",
    "    for k in j:\n",
    "        label.append(i)        \n",
    "        data.append(open(source_path + i + \"/\" + k, encoding=\"cp1252\").read().replace(\"\\n\", \" \"))"
   ]
  },
  {
   "cell_type": "code",
   "execution_count": 36,
   "metadata": {},
   "outputs": [
    {
     "name": "stdout",
     "output_type": "stream",
     "text": [
      "['business', 'business', 'business', 'business', 'business']\n",
      "['Novartis hits acquisition trail  Swiss drugmaker Novartis has announced 5.65bn euros ($7.4bn; Â£3.9bn) of purchases to make its Sandoz unit the world\\'s biggest generic drug producer.  Novartis, which last month forecast record sales for 2005, said it had bought all of Germany\\'s Hexal. It also acquired 67.7% of Hexal\\'s US affiliate Eon Labs, and offered to buy the remaining shares for $31 each. Novartis said that it would be able to make cost savings of about $200m a year following the acquisitions. Novartis\\' shares rose 1% to 57.85 Swiss francs in early trading.  The deal will see Novartis\\' Sandoz business overtake Israel\\'s Teva Pharmaceuticals as the world\\'s biggest maker of generics. Based on 2004 figures the newly merged producer would have sales of more than $5bn, the company estimated. Novartis said that it would merge a number of departments, adding that there may be job cuts.  \"The strong growth outlook for Sandoz, which will create jobs, is expected to partially compensate for necessary reductions in the work force,\" the firm said in a statement. Generic drugs are chemically identical to their more expensive branded rivals. Producers such as Sandoz can copy the branded products usually after their patent protection expires and can sell them more cheaply as they do not have to pay research and development cost.  There are more than 150 generic drugmakers worldwide and analysts have predicted consolidation in a market that they call fragmented. However, not all analysts were initially convinced about the deal. \"This is a very expensive acquisition,\" Birgit Kuhlhoff, from Sal Oppenheim investment bank, told Reuters. \"I find it strange that they are making acquisitions in exactly those markets where they suffered price pressure.\" ']\n"
     ]
    }
   ],
   "source": [
    "print(label[:5])\n",
    "print(data[:1])"
   ]
  },
  {
   "cell_type": "code",
   "execution_count": 40,
   "metadata": {},
   "outputs": [
    {
     "name": "stdout",
     "output_type": "stream",
     "text": [
      "                                            document\n",
      "0  Novartis hits acquisition trail  Swiss drugmak...\n",
      "1  MCI shareholder sues to stop bid  A shareholde...\n",
      "2  'Standoff' on Deutsche's LSE bid  Deutsche Boe...\n",
      "3  Bush to outline 'toughest' budget  President B...\n",
      "4  Orange colour clash set for court  A row over ...\n",
      "                                             document\n",
      "45  Row brewing over peer-to-peer ads  Music downl...\n",
      "46  How to smash a home computer  An executive who...\n",
      "47  Mobile picture power in your pocket  How many ...\n",
      "48  Man auctions ad space on forehead  A 20-year-o...\n",
      "49  Toxic web links help virus spread  Virus write...\n"
     ]
    }
   ],
   "source": [
    "#LOOP 1\n",
    "df = pd.DataFrame()\n",
    "# put file data into dataframe w/ labels \n",
    "df[\"label\"]=label\n",
    "df[\"document\"]=data\n",
    "print(df.head())\n",
    "print(df.tail())"
   ]
  },
  {
   "cell_type": "code",
   "execution_count": null,
   "metadata": {},
   "outputs": [],
   "source": [
    "#LOOP 2\n",
    "df = pd.DataFrame()\n",
    "# second time through, \n",
    "df[\"document\"]=data\n",
    "print(df.head())\n",
    "print(df.tail())"
   ]
  },
  {
   "cell_type": "code",
   "execution_count": 41,
   "metadata": {},
   "outputs": [],
   "source": [
    "#shuffle the data\n",
    "# don't forget to set it to df, of you will be confused why it's not sticking..\n",
    "df = df.sample(frac=1).reset_index(drop=True)"
   ]
  },
  {
   "cell_type": "code",
   "execution_count": 42,
   "metadata": {},
   "outputs": [
    {
     "data": {
      "text/html": [
       "<div>\n",
       "<style scoped>\n",
       "    .dataframe tbody tr th:only-of-type {\n",
       "        vertical-align: middle;\n",
       "    }\n",
       "\n",
       "    .dataframe tbody tr th {\n",
       "        vertical-align: top;\n",
       "    }\n",
       "\n",
       "    .dataframe thead th {\n",
       "        text-align: right;\n",
       "    }\n",
       "</style>\n",
       "<table border=\"1\" class=\"dataframe\">\n",
       "  <thead>\n",
       "    <tr style=\"text-align: right;\">\n",
       "      <th></th>\n",
       "      <th>document</th>\n",
       "    </tr>\n",
       "  </thead>\n",
       "  <tbody>\n",
       "    <tr>\n",
       "      <th>0</th>\n",
       "      <td>Wife Swap makers sue US 'copycat'  The British...</td>\n",
       "    </tr>\n",
       "    <tr>\n",
       "      <th>1</th>\n",
       "      <td>British Library gets wireless net  Visitors to...</td>\n",
       "    </tr>\n",
       "    <tr>\n",
       "      <th>2</th>\n",
       "      <td>Howard rejects BNP's claim  Tory leader Michae...</td>\n",
       "    </tr>\n",
       "    <tr>\n",
       "      <th>3</th>\n",
       "      <td>Duran Duran show set for US TV  Chart stars Du...</td>\n",
       "    </tr>\n",
       "    <tr>\n",
       "      <th>4</th>\n",
       "      <td>Orange colour clash set for court  A row over ...</td>\n",
       "    </tr>\n",
       "  </tbody>\n",
       "</table>\n",
       "</div>"
      ],
      "text/plain": [
       "                                            document\n",
       "0  Wife Swap makers sue US 'copycat'  The British...\n",
       "1  British Library gets wireless net  Visitors to...\n",
       "2  Howard rejects BNP's claim  Tory leader Michae...\n",
       "3  Duran Duran show set for US TV  Chart stars Du...\n",
       "4  Orange colour clash set for court  A row over ..."
      ]
     },
     "execution_count": 42,
     "metadata": {},
     "output_type": "execute_result"
    }
   ],
   "source": [
    "df.head()"
   ]
  },
  {
   "cell_type": "code",
   "execution_count": 43,
   "metadata": {},
   "outputs": [],
   "source": [
    "#LOOP 1\n",
    "#df.to_csv(\"data/train.csv\", index=False, header=False)"
   ]
  },
  {
   "cell_type": "code",
   "execution_count": null,
   "metadata": {},
   "outputs": [],
   "source": [
    "#LOOP 2\n",
    "df.to_csv(\"data/test.csv\", index=False, header=False)"
   ]
  },
  {
   "cell_type": "code",
   "execution_count": 19,
   "metadata": {},
   "outputs": [],
   "source": [
    "# 1. AWS Console\n",
    "# 2 - create bucket - \n",
    "# 3 - create training data from bucket"
   ]
  },
  {
   "cell_type": "code",
   "execution_count": null,
   "metadata": {},
   "outputs": [],
   "source": []
  }
 ],
 "metadata": {
  "kernelspec": {
   "display_name": "Python 3",
   "language": "python",
   "name": "python3"
  },
  "language_info": {
   "codemirror_mode": {
    "name": "ipython",
    "version": 3
   },
   "file_extension": ".py",
   "mimetype": "text/x-python",
   "name": "python",
   "nbconvert_exporter": "python",
   "pygments_lexer": "ipython3",
   "version": "3.8.5"
  }
 },
 "nbformat": 4,
 "nbformat_minor": 4
}
